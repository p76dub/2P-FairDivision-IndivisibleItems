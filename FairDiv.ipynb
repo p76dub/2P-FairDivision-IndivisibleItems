{
 "cells": [
  {
   "cell_type": "markdown",
   "metadata": {},
   "source": [
    "# 2P-Fairdivision-IndivisibleItems\n",
    "\n",
    "## Introduction\n",
    "The aim of this project is to benchmark some alogorithm design to allocate items to two agents. This notebook focuses on same-size allocations, meaning that each agent should receive the same number of goods. As an additional constraint, items are not divisible.\n",
    "\n",
    "This notebook is inspired by D. Marc Kilgour and Rudolf Vetschera article named *Comparing direct algoriths for two-player fair division of indivisible items - A computational study* you can found [here](https://papers.ssrn.com/sol3/papers.cfm?abstract_id=2997431)"
   ]
  },
  {
   "cell_type": "markdown",
   "metadata": {},
   "source": [
    "## How to use this notebook\n",
    "This notebook shows how to use algorithms and get properties of returned allocations. Several classes are defined to help you to create your own algorithms and properties :\n",
    "  * Agent, which store preferences of an agent as long as some helper methods like getting the to ranked item, get the Borda score of a provided allocation ... Take a look to see what can be done !\n",
    "  * Good, which is a simple wrapper to represent items. It has some nice printing  and comparison methods\n",
    "  * ...\n",
    "In the `properties` module, you can find a bunch of functions. They are designed to test several allocation properties such as Pareto-Optimality, Max-Min property and more."
   ]
  },
  {
   "cell_type": "markdown",
   "metadata": {},
   "source": [
    "## First steps\n",
    "Let's create two agents with their preferences. As a start, we will also create 4 items to divide among agents."
   ]
  },
  {
   "cell_type": "code",
   "execution_count": 1,
   "metadata": {},
   "outputs": [],
   "source": [
    "import fairdiv\n",
    "\n",
    "\n",
    "# Create some constants\n",
    "NUMBER_OF_GOODS = 4\n",
    "\n",
    "# Create items\n",
    "items = [fairdiv.Good(i) for i in range(NUMBER_OF_GOODS)]\n",
    "\n",
    "# Create agents. We will consider that item's number is their rank in preferences of the first agent\n",
    "agents = [\n",
    "    fairdiv.Agent(name=\"A\", pref=items[:]),\n",
    "    fairdiv.Agent(name=\"B\", pref=[items[0], items[2], items[1], items[3]])\n",
    "]"
   ]
  },
  {
   "cell_type": "markdown",
   "metadata": {},
   "source": [
    "Once items and agents are created, you can use one of the available algorithm to compute an allocation. Let's use a sequential algorithm named `bottom_up`.\n",
    "This algorithm generates two allocations, one when agent A is the first agent to pick an item and an other when it is agent B."
   ]
  },
  {
   "cell_type": "code",
   "execution_count": 2,
   "metadata": {},
   "outputs": [
    {
     "name": "stdout",
     "output_type": "stream",
     "text": [
      "{B: (0, 2), A: (1, 3)}\n",
      "{B: (2, 3), A: (0, 1)}\n"
     ]
    }
   ],
   "source": [
    "# Manipulate path\n",
    "import os\n",
    "import sys\n",
    "sys.path.insert(0, os.path.join(os.getcwd(), 'fairdiv'))\n",
    "\n",
    "# Import algorithms\n",
    "import fairdiv.algorithm as algorithm\n",
    "\n",
    "\n",
    "# Use bottom-up to compute two allocations\n",
    "(x1, x2) = algorithm.bottom_up(agents, items)\n",
    "print(x1)\n",
    "print(x2)"
   ]
  },
  {
   "cell_type": "markdown",
   "metadata": {},
   "source": [
    "Once you generated some allocations, you can test different properties with the `properties` module. Let's benchmark our allocations `x1` and `x2` to see how beautiful they are !"
   ]
  },
  {
   "cell_type": "code",
   "execution_count": 3,
   "metadata": {},
   "outputs": [
    {
     "name": "stdout",
     "output_type": "stream",
     "text": [
      "False\n",
      "False\n"
     ]
    }
   ],
   "source": [
    "# Import module\n",
    "import fairdiv.properties as properties\n",
    "\n",
    "\n",
    "# Test some of them\n",
    "print(properties.is_borda_envy_free(x1, agents))\n",
    "print(properties.is_borda_envy_free(x2, agents))"
   ]
  },
  {
   "cell_type": "markdown",
   "metadata": {},
   "source": [
    "Some properties need to get all possible allocations for a given item set size. To generate them, use `Allocation.generate_all_allocations`."
   ]
  },
  {
   "cell_type": "code",
   "execution_count": 4,
   "metadata": {},
   "outputs": [
    {
     "name": "stdout",
     "output_type": "stream",
     "text": [
      "[{B: (1, 3), A: (0, 2)}, {B: (0, 2), A: (1, 3)}, {B: (0, 1), A: (2, 3)}, {B: (0, 3), A: (1, 2)}, {B: (2, 3), A: (0, 1)}, {B: (1, 2), A: (0, 3)}]\n",
      "{B: (1, 3), A: (0, 2)}\n",
      "False\n",
      "True\n"
     ]
    }
   ],
   "source": [
    "# Generate all allocations for our problem\n",
    "A = list(fairdiv.Allocation.generate_all_allocations(agents, items))\n",
    "print(A)\n",
    "\n",
    "# Use them in properties\n",
    "print(properties.is_pareto(x1, A, agents))\n",
    "print(properties.is_pareto(x2, A, agents))"
   ]
  },
  {
   "cell_type": "markdown",
   "metadata": {},
   "source": [
    "## Test a large amount of properties\n",
    "Because the number of properties to test is possibly hudge, we designed a class called `Statistics` with which you can store computed allocations and automatically test a bunch of properties easly.\n",
    "First you need to create a new `Statistics` object."
   ]
  },
  {
   "cell_type": "code",
   "execution_count": 5,
   "metadata": {},
   "outputs": [],
   "source": [
    "import statistics as stats\n",
    "\n",
    "\n",
    "# Create a new Statistics object for storing allocations from bottom_up\n",
    "bu_stats = stats.Statistics(A, agents, {\n",
    "    \"is_borda_envy_free\": lambda X, A, M: properties.is_borda_envy_free(X, M),\n",
    "    \"is_envy_free\": lambda X, A, M: properties.is_envy_free(X, M),\n",
    "})"
   ]
  },
  {
   "cell_type": "markdown",
   "metadata": {},
   "source": [
    "Now you can add allocations to your object. Each time a new allocation is added, desired properties are tested and the result is stored. You can then print the result or save it in a file."
   ]
  },
  {
   "cell_type": "code",
   "execution_count": 6,
   "metadata": {},
   "outputs": [
    {
     "name": "stdout",
     "output_type": "stream",
     "text": [
      "Allocations:\n",
      "\tAllocation: {A: (1, 3), B: (0, 2)}\n",
      "\t\tis_envy_free: True\n",
      "\t\tis_borda_envy_free: False\n",
      "\tAllocation: {A: (0, 1), B: (2, 3)}\n",
      "\t\tis_envy_free: True\n",
      "\t\tis_borda_envy_free: False\n",
      "\n"
     ]
    }
   ],
   "source": [
    "# Add allocations\n",
    "bu_stats.add(x1)\n",
    "bu_stats.add(x2)\n",
    "\n",
    "# Print the result\n",
    "print(bu_stats.formatted_text())"
   ]
  },
  {
   "cell_type": "markdown",
   "metadata": {},
   "source": [
    "Lets suppose you are bad"
   ]
  },
  {
   "cell_type": "code",
   "execution_count": null,
   "metadata": {},
   "outputs": [],
   "source": []
  }
 ],
 "metadata": {
  "kernelspec": {
   "display_name": "Python 3",
   "language": "python",
   "name": "python3"
  },
  "language_info": {
   "codemirror_mode": {
    "name": "ipython",
    "version": 3
   },
   "file_extension": ".py",
   "mimetype": "text/x-python",
   "name": "python",
   "nbconvert_exporter": "python",
   "pygments_lexer": "ipython3",
   "version": "3.5.4"
  }
 },
 "nbformat": 4,
 "nbformat_minor": 2
}
