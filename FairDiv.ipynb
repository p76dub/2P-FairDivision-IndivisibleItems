{
 "cells": [
  {
   "cell_type": "markdown",
   "metadata": {},
   "source": [
    "# 2P-Fairdivision-IndivisibleItems\n",
    "\n",
    "## Introduction\n",
    "The aim of this project is to benchmark some alogorithm design to allocate items to two agents. This notebook focuses on same-size allocations, meaning that each agent should receive the same number of goods. As an additional constraint, items are not divisible.\n",
    "\n",
    "This notebook is inspired by D. Marc Kilgour and Rudolf Vetschera article named *Comparing direct algoriths for two-player fair division of indivisible items - A computational study* you can found [here](https://papers.ssrn.com/sol3/papers.cfm?abstract_id=2997431)"
   ]
  },
  {
   "cell_type": "markdown",
   "metadata": {},
   "source": [
    "## How to use this notebook\n",
    "This notebook shows how to use algorithms and get properties of returned allocations. Several classes are defined to help you to create your own algorithms and properties :\n",
    "  * Agent, which store preferences of an agent as long as some helper methods like getting the to ranked item, get the Borda score of a provided allocation ... Take a look to see what can be done !\n",
    "  * Good, which is a simple wrapper to represent items. It has some nice printing  and comparison methods\n",
    "  * ...\n",
    "In the `properties` module, you can find a bunch of functions. They are designed to test several allocation properties such as Pareto-Optimality, Max-Min property and more."
   ]
  },
  {
   "cell_type": "markdown",
   "metadata": {},
   "source": [
    "## First steps\n",
    "Let's create two agents with their preferences. As a start, we will also create 4 items to divide among agents."
   ]
  },
  {
   "cell_type": "code",
   "execution_count": 1,
   "metadata": {},
   "outputs": [],
   "source": [
    "# Manipulate path\n",
    "import os\n",
    "import sys\n",
    "sys.path.insert(0, os.path.join(os.getcwd(), 'fairdiv'))\n",
    "\n",
    "# Import fairdiv\n",
    "import fairdiv\n",
    "\n",
    "\n",
    "# Create some constants\n",
    "NUMBER_OF_GOODS = 4\n",
    "\n",
    "# Create items\n",
    "items = [fairdiv.Good(i) for i in range(NUMBER_OF_GOODS)]\n",
    "\n",
    "# Create agents. We will consider that item's number is their rank in preferences of the first agent\n",
    "agents = [\n",
    "    fairdiv.Agent(name=\"A\", pref=items[:]),\n",
    "    fairdiv.Agent(name=\"B\", pref=[items[0], items[2], items[1], items[3]])\n",
    "]"
   ]
  },
  {
   "cell_type": "markdown",
   "metadata": {},
   "source": [
    "Once items and agents are created, you can use one of the available algorithm to compute an allocation. Let's use a sequential algorithm named `bottom_up`.\n",
    "This algorithm generates two allocations, one when agent A is the first agent to pick an item and an other when it is agent B."
   ]
  },
  {
   "cell_type": "code",
   "execution_count": 2,
   "metadata": {},
   "outputs": [
    {
     "name": "stdout",
     "output_type": "stream",
     "text": [
      "{B: (2, 3), A: (0, 1)}\n",
      "{B: (0, 2), A: (1, 3)}\n"
     ]
    }
   ],
   "source": [
    "# Import algorithms\n",
    "import fairdiv.algorithm as algorithm\n",
    "\n",
    "\n",
    "# Use bottom-up to compute two allocations\n",
    "(x1, x2) = algorithm.bottom_up(agents, items)\n",
    "print(x1)\n",
    "print(x2)"
   ]
  },
  {
   "cell_type": "markdown",
   "metadata": {},
   "source": [
    "Once you generated some allocations, you can test different properties with the `properties` module. Let's benchmark our allocations `x1` and `x2` to see how beautiful they are !"
   ]
  },
  {
   "cell_type": "code",
   "execution_count": 3,
   "metadata": {},
   "outputs": [
    {
     "name": "stdout",
     "output_type": "stream",
     "text": [
      "False\n",
      "False\n"
     ]
    }
   ],
   "source": [
    "# Import module\n",
    "import fairdiv.properties as properties\n",
    "\n",
    "\n",
    "# Test some of them\n",
    "print(properties.is_borda_envy_free(x1, agents))\n",
    "print(properties.is_borda_envy_free(x2, agents))"
   ]
  },
  {
   "cell_type": "markdown",
   "metadata": {},
   "source": [
    "Some properties need to get all possible allocations for a given item set size. To generate them, use `Allocation.generate_all_allocations`."
   ]
  },
  {
   "cell_type": "code",
   "execution_count": 4,
   "metadata": {},
   "outputs": [
    {
     "name": "stdout",
     "output_type": "stream",
     "text": [
      "[{B: (0, 2), A: (1, 3)}, {B: (1, 2), A: (0, 3)}, {B: (0, 1), A: (2, 3)}, {B: (1, 3), A: (0, 2)}, {B: (2, 3), A: (0, 1)}, {B: (0, 3), A: (1, 2)}]\n",
      "True\n",
      "True\n"
     ]
    }
   ],
   "source": [
    "# Generate all allocations for our problem\n",
    "A = list(fairdiv.Allocation.generate_all_allocations(agents, items))\n",
    "print(A)\n",
    "\n",
    "# Use them in properties\n",
    "print(properties.is_pareto(x1, A, agents))\n",
    "print(properties.is_pareto(x2, A, agents))"
   ]
  },
  {
   "cell_type": "markdown",
   "metadata": {},
   "source": [
    "## Test a large amount of properties\n",
    "Because the number of properties to test is possibly hudge, we designed a class called `Statistics` with which you can store computed allocations and automatically test a bunch of properties easly.\n",
    "First you need to create a new `Statistics` object."
   ]
  },
  {
   "cell_type": "code",
   "execution_count": 5,
   "metadata": {},
   "outputs": [],
   "source": [
    "import statistics as stats\n",
    "\n",
    "\n",
    "# Create a new Statistics object for storing allocations from bottom_up\n",
    "bu_stats = stats.Statistics(A, agents, {\n",
    "    \"is_borda_envy_free\": lambda X, A, M: properties.is_borda_envy_free(X, M),\n",
    "    \"is_envy_free\": lambda X, A, M: properties.is_envy_free(X, M),\n",
    "    \"is_borda_max_min\": properties.is_borda_max_min,\n",
    "    \"is_borda_nash\": properties.is_borda_nash\n",
    "})"
   ]
  },
  {
   "cell_type": "markdown",
   "metadata": {},
   "source": [
    "Now you can add allocations to your object. Each time a new allocation is added, desired properties are tested and the result is stored. You can then print the result or save it in a file."
   ]
  },
  {
   "cell_type": "code",
   "execution_count": 6,
   "metadata": {},
   "outputs": [
    {
     "name": "stdout",
     "output_type": "stream",
     "text": [
      "Allocations:\n",
      "\tAllocation: {B: (2, 3), A: (0, 1)}\n",
      "\t\tis_borda_max_min: False\n",
      "\t\tis_borda_envy_free: False\n",
      "\t\tis_borda_nash: True\n",
      "\t\tis_envy_free: True\n",
      "\tAllocation: {B: (0, 2), A: (1, 3)}\n",
      "\t\tis_borda_max_min: False\n",
      "\t\tis_borda_envy_free: False\n",
      "\t\tis_borda_nash: True\n",
      "\t\tis_envy_free: True\n",
      "\n"
     ]
    }
   ],
   "source": [
    "# Add allocations\n",
    "bu_stats.add(x1)\n",
    "bu_stats.add(x2)\n",
    "\n",
    "# Print the result\n",
    "print(bu_stats.formatted_text())"
   ]
  },
  {
   "cell_type": "markdown",
   "metadata": {},
   "source": [
    "## Reproducing examples\n",
    "In this section, we are going to test our algorithm using problems defined in the article. This will allow us to demonstrate that our algorithm are correct.\n",
    "\n",
    "### First Problem\n",
    "Benchmarking OS algorithm with the given problem :\n",
    "  * 4 items\n",
    "  * B preferences are $1 \\succ 3 \\succ 2 \\succ 4$\n",
    "\n",
    "The algorithm should produce 6 allocations, but only 4 unique ones."
   ]
  },
  {
   "cell_type": "code",
   "execution_count": 2,
   "metadata": {},
   "outputs": [
    {
     "name": "stdout",
     "output_type": "stream",
     "text": [
      "{B: (2, 4), A: (1, 3)} -> False\n",
      "{B: (3, 4), A: (1, 2)} -> False\n",
      "{B: (1, 4), A: (2, 3)} -> True\n",
      "{B: (1, 2), A: (3, 4)} -> False\n",
      "{B: (2, 3), A: (1, 4)} -> True\n",
      "{B: (1, 3), A: (2, 4)} -> False\n",
      "OS: [{B: (3, 4), A: (1, 2)}, {B: (1, 4), A: (2, 3)}, {B: (2, 3), A: (1, 4)}, {B: (1, 3), A: (2, 4)}]\n",
      "TR: []\n"
     ]
    }
   ],
   "source": [
    "# Manipulate path\n",
    "import os\n",
    "import sys\n",
    "sys.path.insert(0, os.path.join(os.getcwd(), 'fairdiv'))\n",
    "\n",
    "import fairdiv\n",
    "import statistics as stats\n",
    "import fairdiv.algorithm as algorithm\n",
    "import fairdiv.properties as props\n",
    "\n",
    "\n",
    "# Create some constants\n",
    "NUMBER_OF_GOODS = 4\n",
    "\n",
    "# Create items\n",
    "items = [fairdiv.Good(i+1) for i in range(NUMBER_OF_GOODS)]\n",
    "\n",
    "# Create agents. We will consider that item's number is their rank in preferences of the first agent\n",
    "agents = [\n",
    "    fairdiv.Agent(name=\"A\", pref=items[:]),\n",
    "    fairdiv.Agent(name=\"B\", pref=[items[0], items[2], items[1], items[3]])\n",
    "]\n",
    "\n",
    "# Generate all allocations for the given problem\n",
    "A = list(fairdiv.Allocation.generate_all_allocations(agents, items))\n",
    "for alloc in A:\n",
    "    print('{} -> {}'.format(alloc, props.is_envy_free_ordinally(alloc, agents)))\n",
    "\n",
    "result = algorithm.original_sequential(agents, items)\n",
    "print(\"OS: {}\".format(result))\n",
    "\n",
    "TR = algorithm.trump_algorithm(agents, items)\n",
    "print(\"TR: {}\".format(TR))\n",
    "for alloc in TR:\n",
    "    print(props.is_pareto_ordinally(alloc, A, M))\n"
   ]
  },
  {
   "cell_type": "markdown",
   "metadata": {},
   "source": [
    "### Second problem\n",
    "We are benchmarking all algorithm with the given problem:\n",
    "  * 8 items\n",
    "  * B's ranking is : $2 \\succ 4 \\succ 5 \\succ 6 \\succ 7 \\succ 8 \\succ 1 \\succ 3$\n",
    "\n",
    "Results should be :\n",
    "  * OS is the only algorithm that generates allocation `(1,3,5,6)|(2,4,7,8)`\n",
    "  * Only OS algoithm can allocate $5$ and $6$ to the same player\n",
    "  * Allocation `(1,3,4,7)|(2,5,6,8)` is not MM (max-min)\n"
   ]
  },
  {
   "cell_type": "code",
   "execution_count": 8,
   "metadata": {},
   "outputs": [
    {
     "name": "stdout",
     "output_type": "stream",
     "text": [
      "BU: [{B: (4, 6, 7, 8), A: (1, 2, 3, 5)}, {B: (2, 5, 7, 8), A: (1, 3, 4, 6)}]\n",
      "SD: [{B: (2, 5, 7, 8), A: (1, 3, 4, 6)}, {B: (2, 6, 7, 8), A: (1, 3, 4, 5)}]\n",
      "OS: [{B: (2, 4, 6, 8), A: (1, 3, 5, 7)}, {B: (2, 4, 7, 8), A: (1, 3, 5, 6)}, {B: (2, 5, 6, 8), A: (1, 3, 4, 7)}]\n",
      "RS: [{B: (2, 4, 6, 8), A: (1, 3, 5, 7)}]\n",
      "TR: [{B: (2, 5, 7, 8), A: (1, 3, 4, 6)}]\n",
      "\n",
      "Max-min property for OS allocations:\n",
      "\t{B: (2, 4, 6, 8), A: (1, 3, 5, 7)}: False\n",
      "\t{B: (2, 4, 7, 8), A: (1, 3, 5, 6)}: True\n",
      "\t{B: (2, 5, 6, 8), A: (1, 3, 4, 7)}: False\n"
     ]
    }
   ],
   "source": [
    "import os\n",
    "import sys\n",
    "sys.path.insert(0, os.path.join('.', 'fairdiv'))\n",
    "\n",
    "import fairdiv\n",
    "import statistics as stats\n",
    "import fairdiv.algorithm as algorithm\n",
    "import fairdiv.properties as properties\n",
    "\n",
    "\n",
    "# Create some constants\n",
    "NUMBER_OF_GOODS = 8\n",
    "\n",
    "# Create items\n",
    "items = [fairdiv.Good(i+1) for i in range(NUMBER_OF_GOODS)]\n",
    "\n",
    "# Create agents. We will consider that item's number is their rank in preferences of the first agent\n",
    "agents = [\n",
    "    fairdiv.Agent(name=\"A\", pref=items[:]),\n",
    "    fairdiv.Agent(name=\"B\", pref=[items[1], items[3], items[4], items[5], items[6], items[7], items[0], items[2]])\n",
    "]\n",
    "\n",
    "# Generate all allocations for the given problem\n",
    "A = list(fairdiv.Allocation.generate_all_allocations(agents, items))\n",
    "\n",
    "\n",
    "results = {\n",
    "    \"OS\": algorithm.original_sequential(agents, items),\n",
    "    \"RS\": algorithm.restricted_sequential(agents, items),\n",
    "    \"SD\": algorithm.singles_doubles(agents, items),\n",
    "    \"BU\": algorithm.bottom_up(agents, items),\n",
    "    \"TR\": algorithm.trump_algorithm(agents, items)\n",
    "}\n",
    "\n",
    "for k, v in results.items():\n",
    "    print(\"{}: {}\".format(k, v))\n",
    "\n",
    "print(\"\\nMax-min property for OS allocations:\")\n",
    "for alloc in results[\"OS\"]:\n",
    "    print(\"\\t{}: {}\".format(alloc, properties.is_max_min(alloc, A, agents)))"
   ]
  },
  {
   "cell_type": "markdown",
   "metadata": {},
   "source": [
    "### Third Problem\n",
    "The third problem is the following :\n",
    "  * 8 items\n",
    "  * B's ranking is $4 \\succ 7 \\succ 2 \\succ 3 \\succ 6 \\succ 1 \\succ 8 \\succ 5$\n",
    "\n",
    "Results should be :\n",
    "  * BU is the only algorithm that find allocation `(1,3,5,6)|(2,4,7,8)`\n",
    "  * All to-down algorithm allocate item $2$ to $A$\n"
   ]
  },
  {
   "cell_type": "code",
   "execution_count": 9,
   "metadata": {},
   "outputs": [
    {
     "name": "stdout",
     "output_type": "stream",
     "text": [
      "BU: [{B: (4, 6, 7, 8), A: (1, 2, 3, 5)}, {B: (2, 4, 7, 8), A: (1, 3, 5, 6)}]\n",
      "SD: [{B: (3, 4, 7, 8), A: (1, 2, 5, 6)}, {B: (4, 6, 7, 8), A: (1, 2, 3, 5)}, {B: (2, 4, 7, 8), A: (1, 3, 5, 6)}]\n",
      "OS: [{B: (3, 4, 7, 8), A: (1, 2, 5, 6)}, {B: (4, 6, 7, 8), A: (1, 2, 3, 5)}]\n",
      "RS: [{B: (3, 4, 7, 8), A: (1, 2, 5, 6)}, {B: (4, 6, 7, 8), A: (1, 2, 3, 5)}]\n",
      "TR: [{B: (4, 6, 7, 8), A: (1, 2, 3, 5)}]\n"
     ]
    }
   ],
   "source": [
    "import os\n",
    "import sys\n",
    "sys.path.insert(0, os.path.join('.', 'fairdiv'))\n",
    "\n",
    "import fairdiv\n",
    "import statistics as stats\n",
    "import fairdiv.algorithm as algorithm\n",
    "import fairdiv.properties as properties\n",
    "\n",
    "\n",
    "# Create some constants\n",
    "NUMBER_OF_GOODS = 8\n",
    "\n",
    "# Create items\n",
    "items = [fairdiv.Good(i+1) for i in range(NUMBER_OF_GOODS)]\n",
    "\n",
    "# Create agents. We will consider that item's number is their rank in preferences of the first agent\n",
    "agents = [\n",
    "    fairdiv.Agent(name=\"A\", pref=items[:]),\n",
    "    fairdiv.Agent(name=\"B\", pref=[items[3], items[6], items[1], items[2], items[5], items[0], items[7], items[4]])\n",
    "]\n",
    "\n",
    "# Generate all allocations for the given problem\n",
    "A = list(fairdiv.Allocation.generate_all_allocations(agents, items))\n",
    "\n",
    "\n",
    "results = {\n",
    "    \"OS\": algorithm.original_sequential(agents, items),\n",
    "    \"RS\": algorithm.restricted_sequential(agents, items),\n",
    "    \"SD\": algorithm.singles_doubles(agents, items),\n",
    "    \"BU\": algorithm.bottom_up(agents, items),\n",
    "    \"TR\": algorithm.trump_algorithm(agents, items)\n",
    "}\n",
    "\n",
    "for k, v in results.items():\n",
    "    print(\"{}: {}\".format(k, v))"
   ]
  },
  {
   "cell_type": "markdown",
   "metadata": {},
   "source": [
    "### Fourth problem\n",
    "The problem is the following :\n",
    "  * 8 items\n",
    "  * B's ranking is : $2 \\succ 5 \\succ 6 \\succ 1 \\succ 7 \\succ 3 \\succ 8 \\succ 4$\n",
    "\n",
    "We expect the following results :\n",
    "  * SD is the only algorithm that find allocation `(1,3,4,6)|(2,5,7,8)`\n",
    "  * RS and OS allocate item 6 to player $B$\n",
    "  * other algorithm allocate items 6, 7 and 8 to $B$\n"
   ]
  },
  {
   "cell_type": "code",
   "execution_count": 10,
   "metadata": {},
   "outputs": [
    {
     "name": "stdout",
     "output_type": "stream",
     "text": [
      "BU: [{B: (5, 6, 7, 8), A: (1, 2, 3, 4)}, {B: (2, 6, 7, 8), A: (1, 3, 4, 5)}]\n",
      "SD: [{B: (2, 5, 6, 8), A: (1, 3, 4, 7)}, {B: (2, 6, 7, 8), A: (1, 3, 4, 5)}, {B: (2, 5, 7, 8), A: (1, 3, 4, 6)}]\n",
      "OS: [{B: (2, 5, 6, 8), A: (1, 3, 4, 7)}]\n",
      "RS: [{B: (2, 5, 6, 8), A: (1, 3, 4, 7)}]\n",
      "TR: [{B: (2, 6, 7, 8), A: (1, 3, 4, 5)}]\n"
     ]
    }
   ],
   "source": [
    "import os\n",
    "import sys\n",
    "sys.path.insert(0, os.path.join('.', 'fairdiv'))\n",
    "\n",
    "import fairdiv\n",
    "import statistics as stats\n",
    "import fairdiv.algorithm as algorithm\n",
    "import fairdiv.properties as properties\n",
    "\n",
    "\n",
    "# Create some constants\n",
    "NUMBER_OF_GOODS = 8\n",
    "\n",
    "# Create items\n",
    "items = [fairdiv.Good(i+1) for i in range(NUMBER_OF_GOODS)]\n",
    "\n",
    "# Create agents. We will consider that item's number is their rank in preferences of the first agent\n",
    "agents = [\n",
    "    fairdiv.Agent(name=\"A\", pref=items[:]),\n",
    "    fairdiv.Agent(name=\"B\", pref=[items[1], items[4], items[5], items[0], items[6], items[2], items[7], items[3]])\n",
    "]\n",
    "\n",
    "# Generate all allocations for the given problem\n",
    "A = list(fairdiv.Allocation.generate_all_allocations(agents, items))\n",
    "\n",
    "\n",
    "results = {\n",
    "    \"OS\": algorithm.original_sequential(agents, items),\n",
    "    \"RS\": algorithm.restricted_sequential(agents, items),\n",
    "    \"SD\": algorithm.singles_doubles(agents, items),\n",
    "    \"BU\": algorithm.bottom_up(agents, items),\n",
    "    \"TR\": algorithm.trump_algorithm(agents, items)\n",
    "}\n",
    "\n",
    "for k, v in results.items():\n",
    "    print(\"{}: {}\".format(k, v))"
   ]
  },
  {
   "cell_type": "markdown",
   "metadata": {},
   "source": [
    "### Fifth Problem\n",
    "Problem is :\n",
    "  * 8 items\n",
    "  * B's ranking is: $3 \\succ 4 \\succ 6 \\succ 1 \\succ 8 \\succ 5 \\succ 2 \\succ 7$\n",
    "\n",
    "We expect all algorithm should allocate 4 to $B$ and 5 to $A$"
   ]
  },
  {
   "cell_type": "code",
   "execution_count": 11,
   "metadata": {},
   "outputs": [
    {
     "name": "stdout",
     "output_type": "stream",
     "text": [
      "BU: [{B: (3, 4, 6, 8), A: (1, 2, 5, 7)}, {B: (4, 5, 6, 8), A: (1, 2, 3, 7)}]\n",
      "SD: [{B: (3, 4, 6, 8), A: (1, 2, 5, 7)}, {B: (3, 5, 6, 8), A: (1, 2, 4, 7)}]\n",
      "OS: [{B: (3, 4, 6, 8), A: (1, 2, 5, 7)}]\n",
      "RS: [{B: (3, 4, 6, 8), A: (1, 2, 5, 7)}]\n",
      "TR: [{B: (3, 4, 6, 8), A: (1, 2, 5, 7)}]\n"
     ]
    }
   ],
   "source": [
    "import os\n",
    "import sys\n",
    "sys.path.insert(0, os.path.join('.', 'fairdiv'))\n",
    "\n",
    "import fairdiv\n",
    "import statistics as stats\n",
    "import fairdiv.algorithm as algorithm\n",
    "import fairdiv.properties as properties\n",
    "\n",
    "\n",
    "# Create some constants\n",
    "NUMBER_OF_GOODS = 8\n",
    "\n",
    "# Create items\n",
    "items = [fairdiv.Good(i+1) for i in range(NUMBER_OF_GOODS)]\n",
    "\n",
    "# Create agents. We will consider that item's number is their rank in preferences of the first agent\n",
    "agents = [\n",
    "    fairdiv.Agent(name=\"A\", pref=items[:]),\n",
    "    fairdiv.Agent(name=\"B\", pref=[items[2], items[3], items[5], items[0], items[7], items[4], items[1], items[6]])\n",
    "]\n",
    "\n",
    "# Generate all allocations for the given problem\n",
    "A = list(fairdiv.Allocation.generate_all_allocations(agents, items))\n",
    "\n",
    "\n",
    "results = {\n",
    "    \"OS\": algorithm.original_sequential(agents, items),\n",
    "    \"RS\": algorithm.restricted_sequential(agents, items),\n",
    "    \"SD\": algorithm.singles_doubles(agents, items),\n",
    "    \"BU\": algorithm.bottom_up(agents, items),\n",
    "    \"TR\": algorithm.trump_algorithm(agents, items)\n",
    "}\n",
    "\n",
    "for k, v in results.items():\n",
    "    print(\"{}: {}\".format(k, v))"
   ]
  },
  {
   "cell_type": "markdown",
   "metadata": {},
   "source": [
    "### First Borda Problem\n",
    "Problem is the following:\n",
    "  * $N = 10$\n",
    "  * B's ranking is: $3 \\succ 4 \\succ 5 \\succ 6 \\succ 7 \\succ 8 \\succ 1 \\succ 2$\n",
    "\n",
    "What we can expect is :\n",
    "  * OS is the only algorithm to assign `(1,2,5,6)` to $A$\n",
    "  * All algorithms except RS find allocation `(1,2,4,6)` which is not borda-max-min"
   ]
  },
  {
   "cell_type": "code",
   "execution_count": 12,
   "metadata": {},
   "outputs": [
    {
     "name": "stdout",
     "output_type": "stream",
     "text": [
      "BU: [{B: (4, 6, 7, 8), A: (1, 2, 3, 5)}, {B: (3, 5, 7, 8), A: (1, 2, 4, 6)}]\n",
      "SD: [{B: (3, 6, 7, 8), A: (1, 2, 4, 5)}, {B: (3, 5, 7, 8), A: (1, 2, 4, 6)}]\n",
      "OS: [{B: (3, 4, 7, 8), A: (1, 2, 5, 6)}, {B: (3, 4, 6, 8), A: (1, 2, 5, 7)}]\n",
      "RS: [{B: (3, 4, 6, 8), A: (1, 2, 5, 7)}]\n",
      "TR: [{B: (3, 5, 7, 8), A: (1, 2, 4, 6)}]\n"
     ]
    },
    {
     "data": {
      "text/plain": [
       "<function print>"
      ]
     },
     "execution_count": 12,
     "metadata": {},
     "output_type": "execute_result"
    }
   ],
   "source": [
    "import os\n",
    "import sys\n",
    "sys.path.insert(0, os.path.join('.', 'fairdiv'))\n",
    "\n",
    "import fairdiv\n",
    "import fairdiv.algorithm as algorithm\n",
    "import fairdiv.properties as props\n",
    "\n",
    "\n",
    "# Create some constants\n",
    "NUMBER_OF_GOODS = 8\n",
    "\n",
    "# Create items\n",
    "items = [fairdiv.Good(i+1) for i in range(NUMBER_OF_GOODS)]\n",
    "\n",
    "# Create agents. We will consider that item's number is their rank in preferences of the first agent\n",
    "agents = [\n",
    "    fairdiv.Agent(name=\"A\", pref=items[:]),\n",
    "    fairdiv.Agent(name=\"B\", pref=[items[2], items[3], items[4], items[5], items[6], items[7], items[0], items[1]])\n",
    "]\n",
    "\n",
    "# Generate all allocations for the given problem\n",
    "A = list(fairdiv.Allocation.generate_all_allocations(agents, items))\n",
    "\n",
    "\n",
    "results = {\n",
    "    \"OS\": algorithm.original_sequential(agents, items),\n",
    "    \"RS\": algorithm.restricted_sequential(agents, items),\n",
    "    \"SD\": algorithm.singles_doubles(agents, items),\n",
    "    \"BU\": algorithm.bottom_up(agents, items),\n",
    "    \"TR\": algorithm.trump_algorithm(agents, items)\n",
    "}\n",
    "\n",
    "for k, v in results.items():\n",
    "    print(\"{}: {}\".format(k, v))\n"
   ]
  },
  {
   "cell_type": "markdown",
   "metadata": {},
   "source": [
    "The OS algorithm is not generating allocation `(1,2,4,6)|(3,5,7,8)` as expected. We don't know if it is our algorithm or if we didn't understood the article's sentence."
   ]
  },
  {
   "cell_type": "markdown",
   "metadata": {},
   "source": [
    "### Second Borda Problem\n",
    "The problem is the following :\n",
    "  * $N = 8$\n",
    "  * B's ranking is: $5 \\succ 8 \\succ 2 \\succ 3 \\succ 4 \\succ 6 \\succ  1 \\succ 7$\n",
    "\n",
    "We expect the following properties:\n",
    "  * TR is the only algorithm that allocates `(1,2,3,7)` to $A$\n",
    "  * All other algorithms allocate `(1,2,3,7)`to $A$ and this allocation fulfill all ordinal and Borda properties (defined in the article)\n"
   ]
  },
  {
   "cell_type": "code",
   "execution_count": 13,
   "metadata": {},
   "outputs": [
    {
     "name": "stdout",
     "output_type": "stream",
     "text": [
      "BU: [{B: (3, 5, 6, 8), A: (1, 2, 4, 7)}, {B: (2, 5, 6, 8), A: (1, 3, 4, 7)}]\n",
      "SD: [{B: (2, 5, 6, 8), A: (1, 3, 4, 7)}, {B: (2, 3, 5, 8), A: (1, 4, 6, 7)}, {B: (3, 5, 6, 8), A: (1, 2, 4, 7)}, {B: (3, 4, 5, 8), A: (1, 2, 6, 7)}, {B: (2, 4, 5, 8), A: (1, 3, 6, 7)}]\n",
      "OS: [{B: (3, 5, 6, 8), A: (1, 2, 4, 7)}]\n",
      "RS: [{B: (3, 5, 6, 8), A: (1, 2, 4, 7)}]\n",
      "TR: [{B: (4, 5, 6, 8), A: (1, 2, 3, 7)}, {B: (2, 5, 6, 8), A: (1, 3, 4, 7)}]\n",
      "Allocations:\n",
      "\tAllocation: {B: (3, 5, 6, 8), A: (1, 2, 4, 7)}\n",
      "\t\tOLEnvyFree: True\n",
      "\t\tBEnvyFree: True\n",
      "\t\tBMaxSum: True\n",
      "\t\tBPareto: True\n",
      "\t\tBMaxMin: True\n",
      "\n"
     ]
    }
   ],
   "source": [
    "import os\n",
    "import sys\n",
    "sys.path.insert(0, os.path.join('.', 'fairdiv'))\n",
    "\n",
    "import fairdiv\n",
    "import fairdiv.algorithm as algorithm\n",
    "import fairdiv.statistics as stats\n",
    "import fairdiv.properties as props\n",
    "\n",
    "\n",
    "# Create some constants\n",
    "NUMBER_OF_GOODS = 8\n",
    "\n",
    "# Create items\n",
    "items = [fairdiv.Good(i+1) for i in range(NUMBER_OF_GOODS)]\n",
    "\n",
    "# Create agents. We will consider that item's number is their rank in preferences of the first agent\n",
    "agents = [\n",
    "    fairdiv.Agent(name=\"A\", pref=items[:]),\n",
    "    fairdiv.Agent(name=\"B\", pref=[items[4], items[7], items[1], items[2], items[3], items[5], items[0], items[6]])\n",
    "]\n",
    "\n",
    "# Generate all allocations for the given problem\n",
    "A = list(fairdiv.Allocation.generate_all_allocations(agents, items))\n",
    "\n",
    "\n",
    "results = {\n",
    "    \"OS\": algorithm.original_sequential(agents, items),\n",
    "    \"RS\": algorithm.restricted_sequential(agents, items),\n",
    "    \"SD\": algorithm.singles_doubles(agents, items),\n",
    "    \"BU\": algorithm.bottom_up(agents, items),\n",
    "    \"TR\": algorithm.trump_algorithm(agents, items)\n",
    "}\n",
    "\n",
    "for k, v in results.items():\n",
    "    print(\"{}: {}\".format(k, v))\n",
    "\n",
    "os_stats = stats.Statistics(A, agents, {\n",
    "    \"BPareto\": props.is_borda_pareto,\n",
    "    \"BMaxSum\": props.is_maximal_borda_sum,\n",
    "    \"BEnvyFree\": lambda X, A, M: props.is_borda_envy_free(X, M),\n",
    "    \"BMaxMin\": props.is_borda_max_min,\n",
    "    \"OLEnvyFree\": lambda X, A, M: props.is_envy_free_ordinally(X, M),\n",
    "    # \"OLPareto\": props.is_pareto_ordinally # Will take a long time\n",
    "})\n",
    "for X in results[\"OS\"]:\n",
    "    os_stats.add(X)\n",
    "\n",
    "print(os_stats.formatted_text())"
   ]
  },
  {
   "cell_type": "markdown",
   "metadata": {},
   "source": [
    "## Extending the article\n",
    "D. Marc Kilgour and Rudolf Vetschera defined several properties using Ordinally Less relationship and Borda score :\n",
    "  * EnvyFree using Ordinally Less\n",
    "  * Pareto using Ordinally Less\n",
    "  * Envy Free using Borda score\n",
    "  * Borda max sum\n",
    "  * Max min using Borda score\n",
    "  * Max min\n",
    "\n",
    "In addition of these properties, we propose to define new ones :\n",
    "  * Nash property using the Borda score, we can define as follow : $\\forall Y \\in A, \\prod_{m \\in M} B_m(X_m) \\geq \\prod_{m \\in M} B_m(Y_m)$\n",
    "  * Pareto, without using the Ordinally Less relationship defined as follow : $\\forall Y \\in A, \\forall m \\in M, X_m \\succ_{p} Y_m$ For example, if goods are `car`, `plane`, `train` and `boat` and A's preferences are `car` $\\succ$ `train` $\\succ$ `plane` $\\succ$ `boat`, then allocation {`car`, `train`} is pareto because items rank are respectively $1$ and $2$ and there is no other allocation beating that. {`car`, `plane`} is dominated because items rank are $1$ and $3$.\n",
    "  * Envy Free without using Ordinally Less relationship. An allocation is envy-free if no agent prefers an item allocated to the other. For example, if B'spreferences are `plane` $\\succ$ `boat` $\\succ$ `car` $\\succ$ `train`, then allocation {`car`, `plane`} for A is not envy free because A would like to have `train` and B `plane`."
   ]
  },
  {
   "cell_type": "markdown",
   "metadata": {},
   "source": [
    "## Benchmarking algorithms\n",
    "In this section, we are going to benchmark all algorithms to study produced allocations.\n",
    "\n",
    "### 4 items problems\n"
   ]
  },
  {
   "cell_type": "code",
   "execution_count": 1,
   "metadata": {},
   "outputs": [],
   "source": [
    "import os\n",
    "import sys\n",
    "sys.path.insert(0, os.path.join('.', 'fairdiv'))\n",
    "\n",
    "import fairdiv\n",
    "import fairdiv.algorithm as algorithm\n",
    "import fairdiv.statistics as stats\n",
    "import fairdiv.properties as props\n",
    "import fairdiv.problemGenerators as generators\n",
    "\n",
    "# Create some constants\n",
    "NUMBER_OF_GOODS = 8\n",
    "\n",
    "# Generate all possible problems (ie, all preferences) for 4 items\n",
    "problems = generators.generate_possible_problems(4)\n",
    "\n",
    "# Algorithms to test\n",
    "algos = {\n",
    "    \"OS\": algorithm.original_sequential,\n",
    "    \"RS\": algorithm.restricted_sequential,\n",
    "    \"SD\": algorithm.singles_doubles,\n",
    "    \"BU\": algorithm.bottom_up,\n",
    "    \"TR\": algorithm.trump_algorithm\n",
    "}\n",
    "\n",
    "# Properties to test\n",
    "properties = {\n",
    "        \"BPareto\": props.is_borda_pareto,\n",
    "        \"BMaxSum\": props.is_maximal_borda_sum,\n",
    "        \"BEnvyFree\": lambda X, A, M: props.is_borda_envy_free(X, M),\n",
    "        \"BMaxMin\": props.is_borda_max_min,\n",
    "        \"BNash\": props.is_borda_nash,\n",
    "        # \"BEgalitarian\": lambda X, A, M: props.is_borda_egalitarian(X, M),\n",
    "        \"OLEnvyFree\": lambda X, A, M: props.is_envy_free_ordinally(X, M),\n",
    "        \"OLPareto\": props.is_pareto_ordinally, # Will take a long time\n",
    "        \"Max-min\": props.is_max_min,\n",
    "        \"Pareto\": props.is_pareto,\n",
    "        \"Envy-free\": lambda X, A, M: props.is_envy_free(X, M)\n",
    "    }\n",
    "\n",
    "# Benchmark algorithms\n",
    "benchmark = stats.Benchmark(\n",
    "    problems,\n",
    "    algos,\n",
    "    properties\n",
    ")\n",
    "\n",
    "result = benchmark.run()"
   ]
  },
  {
   "cell_type": "markdown",
   "metadata": {},
   "source": [
    "We can make some charts about allocations. Let's draw the average number of allocations found by the algorithms per problem :"
   ]
  },
  {
   "cell_type": "code",
   "execution_count": 2,
   "metadata": {},
   "outputs": [
    {
     "data": {
      "image/png": "[encoded data removed]",
      "text/plain": [
       "<Figure size 432x288 with 1 Axes>"
      ]
     },
     "metadata": {},
     "output_type": "display_data"
    }
   ],
   "source": [
    "%matplotlib inline\n",
    "import matplotlib\n",
    "import matplotlib.pyplot as plt\n",
    "\n",
    "\n",
    "# Set style\n",
    "plt.style.use('ggplot')\n",
    "\n",
    "# Gather data\n",
    "x = [k for k in result]\n",
    "y = []\n",
    "for algo in x:\n",
    "    avg = 0\n",
    "    for pb in result[algo]:\n",
    "        avg += len(result[algo][pb].data)\n",
    "    avg /= len(result[algo])\n",
    "    y.append(avg)\n",
    "\n",
    "# Draw\n",
    "fig, ax = plt.subplots()\n",
    "ax.bar(x, y)\n",
    "\n",
    "# Misc\n",
    "ax.set(\n",
    "    xlabel='algorithm',\n",
    "    ylabel='Avg num of allocations',\n",
    "    title='Average num of allocations per algorithm (4 items problems)'\n",
    ")\n",
    "plt.show()"
   ]
  },
  {
   "cell_type": "code",
   "execution_count": 3,
   "metadata": {},
   "outputs": [
    {
     "data": {
      "image/png": "[encoded data removed]",
      "text/plain": [
       "<Figure size 432x288 with 1 Axes>"
      ]
     },
     "metadata": {},
     "output_type": "display_data"
    }
   ],
   "source": [
    "%matplotlib inline\n",
    "import numpy as np\n",
    "import matplotlib\n",
    "import matplotlib.pyplot as plt\n",
    "\n",
    "\n",
    "# Set style\n",
    "plt.style.use('ggplot')\n",
    "\n",
    "# Gather data\n",
    "x = [k for k in result] # Define order\n",
    "y = []\n",
    "props = [p for p in properties] # Define order\n",
    "\n",
    "for algo in x:\n",
    "    tmp = {}\n",
    "    nb_alloc = 0\n",
    "    for pb in result[algo]:\n",
    "        for alloc in result[algo][pb].data:\n",
    "            nb_alloc += 1\n",
    "            for prop in alloc:#result[algo][pb].data[alloc]:\n",
    "                if prop != \"Allocation\" and alloc[prop]:\n",
    "                    if not tmp.get(prop, False):\n",
    "                        tmp[prop] = 0\n",
    "                    tmp[prop] += 1\n",
    "    for prop in tmp:\n",
    "        tmp[prop] *= 100 / nb_alloc\n",
    "    y.append([tmp.get(prop, 0) for prop in props])\n",
    "\n",
    "# Draw\n",
    "fig, ax = plt.subplots()\n",
    "gap = 0.4 / len(y)\n",
    "for i in range(len(props)):\n",
    "    ax.bar([j + (i - (len(props) // 2)) * gap for j in range(len(x))], [e[i] for e in y], width=gap, label=props[i])\n",
    "\n",
    "# Misc\n",
    "ax.set(\n",
    "    xlabel='algorithm',\n",
    "    ylabel='% of found allocations',\n",
    "    title='Properties of found allocations (4 items problems)',\n",
    "    xticklabels=[0] + x # trick\n",
    ")\n",
    "\n",
    "# Shrink current axis's height by 10% on the bottom\n",
    "box = ax.get_position()\n",
    "ax.set_position([box.x0, box.y0 + box.height * 0.1,\n",
    "                 box.width, box.height * 0.9])\n",
    "\n",
    "# Put a legend below current axis\n",
    "ax.legend(loc='upper center', bbox_to_anchor=(0.5, -0.2),\n",
    "          fancybox=True, shadow=True, ncol=5)\n",
    "\n",
    "plt.show()"
   ]
  },
  {
   "cell_type": "markdown",
   "metadata": {},
   "source": [
    "#### What we can say\n",
    "Despite finding a small number of allocations, the Trump algorithm find allocations satisfying all properties. All algorithms are finding both max-min and Borda pareto while only SD can also garanty OL envy-free and Borda envy-free properties.\n",
    "Can we generalize what we found ? That's what we are going to see by running a benchmark on 6 items problems."
   ]
  },
  {
   "cell_type": "markdown",
   "metadata": {},
   "source": [
    "### 6 items problems\n",
    "Let's run a benchmark on 6 items problems."
   ]
  },
  {
   "cell_type": "code",
   "execution_count": 4,
   "metadata": {},
   "outputs": [],
   "source": [
    "import os\n",
    "import sys\n",
    "sys.path.insert(0, os.path.join('.', 'fairdiv'))\n",
    "\n",
    "import fairdiv\n",
    "import fairdiv.algorithm as algorithm\n",
    "import fairdiv.statistics as stats\n",
    "import fairdiv.properties as props\n",
    "import fairdiv.problemGenerators as generators\n",
    "\n",
    "# Create some constants\n",
    "NUMBER_OF_GOODS = 6\n",
    "\n",
    "# Generate all possible problems (ie, all preferences) for 6 items\n",
    "problems = generators.generate_possible_problems(NUMBER_OF_GOODS)\n",
    "\n",
    "# Algorithms to test\n",
    "algos = {\n",
    "    \"OS\": algorithm.original_sequential,\n",
    "    \"RS\": algorithm.restricted_sequential,\n",
    "    \"SD\": algorithm.singles_doubles,\n",
    "    \"BU\": algorithm.bottom_up,\n",
    "    \"TR\": algorithm.trump_algorithm\n",
    "}\n",
    "\n",
    "# Properties to test\n",
    "properties = {\n",
    "        \"BPareto\": props.is_borda_pareto,\n",
    "        \"BMaxSum\": props.is_maximal_borda_sum,\n",
    "        \"BEnvyFree\": lambda X, A, M: props.is_borda_envy_free(X, M),\n",
    "        \"BMaxMin\": props.is_borda_max_min,\n",
    "        \"BNash\": props.is_borda_nash,\n",
    "        #\"BEgalitarian\": lambda X, A, M: props.is_borda_egalitarian(X, M),\n",
    "        \"OLEnvyFree\": lambda X, A, M: props.is_envy_free_ordinally(X, M),\n",
    "        \"OLPareto\": props.is_pareto_ordinally, # Will take a long time\n",
    "        \"Max-min\": props.is_max_min,\n",
    "        \"Pareto\": props.is_pareto,\n",
    "        \"Envy-free\": lambda X, A, M: props.is_envy_free(X, M)\n",
    "    }\n",
    "\n",
    "# Benchmark algorithms\n",
    "benchmark = stats.Benchmark(\n",
    "    problems,\n",
    "    algos,\n",
    "    properties\n",
    ")\n",
    "\n",
    "result = benchmark.run()"
   ]
  },
  {
   "cell_type": "code",
   "execution_count": 6,
   "metadata": {},
   "outputs": [
    {
     "data": {
      "image/png": "[encoded data removed]",
      "text/plain": [
       "<Figure size 432x288 with 1 Axes>"
      ]
     },
     "metadata": {},
     "output_type": "display_data"
    }
   ],
   "source": [
    "%matplotlib inline\n",
    "import matplotlib\n",
    "import matplotlib.pyplot as plt\n",
    "\n",
    "\n",
    "# Set style\n",
    "plt.style.use('ggplot')\n",
    "\n",
    "# Gather data\n",
    "x = [k for k in result]\n",
    "y = []\n",
    "for algo in x:\n",
    "    avg = 0\n",
    "    for pb in result[algo]:\n",
    "        avg += len(result[algo][pb].data)\n",
    "    avg /= len(result[algo])\n",
    "    y.append(avg)\n",
    "\n",
    "# Draw\n",
    "fig, ax = plt.subplots()\n",
    "ax.bar(x, y)\n",
    "\n",
    "# Misc\n",
    "ax.set(\n",
    "    xlabel='algorithm',\n",
    "    ylabel='Avg num of allocations',\n",
    "    title='Average num of allocations per algorithm (6 items problems)'\n",
    ")\n",
    "plt.show()"
   ]
  },
  {
   "cell_type": "code",
   "execution_count": 8,
   "metadata": {},
   "outputs": [
    {
     "data": {
      "image/png": "[encoded data removed]",
      "text/plain": [
       "<Figure size 432x288 with 1 Axes>"
      ]
     },
     "metadata": {},
     "output_type": "display_data"
    }
   ],
   "source": [
    "%matplotlib inline\n",
    "import numpy as np\n",
    "import matplotlib\n",
    "import matplotlib.pyplot as plt\n",
    "\n",
    "\n",
    "# Set style\n",
    "plt.style.use('ggplot')\n",
    "\n",
    "# Gather data\n",
    "x = [k for k in result] # Define order\n",
    "y = []\n",
    "props = [p for p in properties] # Define order\n",
    "\n",
    "for algo in x:\n",
    "    tmp = {}\n",
    "    nb_alloc = 0\n",
    "    for pb in result[algo]:\n",
    "        for alloc in result[algo][pb].data:\n",
    "            nb_alloc += 1\n",
    "            for prop in alloc:#result[algo][pb].data[alloc]:\n",
    "                if prop != \"Allocation\" and alloc[prop]:\n",
    "                    if not tmp.get(prop, False):\n",
    "                        tmp[prop] = 0\n",
    "                    tmp[prop] += 1\n",
    "    for prop in tmp:\n",
    "        tmp[prop] *= 100 / nb_alloc\n",
    "    y.append([tmp.get(prop, 0) for prop in props])\n",
    "\n",
    "# Draw\n",
    "fig, ax = plt.subplots()\n",
    "gap = 0.4 / len(y)\n",
    "for i in range(len(props)):\n",
    "    ax.bar([j + (i - (len(props) // 2)) * gap for j in range(len(x))], [e[i] for e in y], width=gap, label=props[i])\n",
    "\n",
    "# Misc\n",
    "ax.set(\n",
    "    xlabel='algorithm',\n",
    "    ylabel='% of found allocations',\n",
    "    title='Properties of found allocations (6 items problems)',\n",
    "    xticklabels=[0] + x # trick\n",
    ")\n",
    "\n",
    "# Shrink current axis's height by 10% on the bottom\n",
    "box = ax.get_position()\n",
    "ax.set_position([box.x0, box.y0 + box.height * 0.1,\n",
    "                 box.width, box.height * 0.9])\n",
    "\n",
    "# Put a legend below current axis\n",
    "ax.legend(loc='upper center', bbox_to_anchor=(0.5, -0.2),\n",
    "          fancybox=True, shadow=True, ncol=5)\n",
    "\n",
    "plt.show()"
   ]
  },
  {
   "cell_type": "markdown",
   "metadata": {},
   "source": [
    "#### What we can say\n",
    "This chart, combined with the one obtained for 4 items problems, show that :\n",
    "  * TR seems to generate allocations that are always OL Pareto, Borda Pareto, OL envy-free and Borda envy-free\n",
    "  * Generated allocations by OS and RS are not always max-min and BPareto like we supposed earlier\n",
    "  * SD seems to find allocations that are max-min and OL envy-free\n",
    "  * BU seems to generate allocations that are max-min"
   ]
  },
  {
   "cell_type": "markdown",
   "metadata": {},
   "source": [
    "### 8 items problems"
   ]
  },
  {
   "cell_type": "code",
   "execution_count": 5,
   "metadata": {},
   "outputs": [
    {
     "ename": "KeyboardInterrupt",
     "evalue": "",
     "output_type": "error",
     "traceback": [
      "\u001b[1;31m---------------------------------------------------------------------------\u001b[0m",
      "\u001b[1;31mKeyboardInterrupt\u001b[0m                         Traceback (most recent call last)",
      "\u001b[1;32m<ipython-input-5-0f949846d971>\u001b[0m in \u001b[0;36m<module>\u001b[1;34m\u001b[0m\n\u001b[0;32m     44\u001b[0m )\n\u001b[0;32m     45\u001b[0m \u001b[1;33m\u001b[0m\u001b[0m\n\u001b[1;32m---> 46\u001b[1;33m \u001b[0mresult\u001b[0m \u001b[1;33m=\u001b[0m \u001b[0mbenchmark\u001b[0m\u001b[1;33m.\u001b[0m\u001b[0mrun\u001b[0m\u001b[1;33m(\u001b[0m\u001b[1;33m)\u001b[0m\u001b[1;33m\u001b[0m\u001b[0m\n\u001b[0m",
      "\u001b[1;32m~\\Documents\\Dev\\Python\\2P-FairDivision-IndivisibleItems\\fairdiv\\statistics.py\u001b[0m in \u001b[0;36mrun\u001b[1;34m(self)\u001b[0m\n\u001b[0;32m    100\u001b[0m                 )\n\u001b[0;32m    101\u001b[0m                 \u001b[1;32mfor\u001b[0m \u001b[0msolution\u001b[0m \u001b[1;32min\u001b[0m \u001b[0malgo\u001b[0m\u001b[1;33m(\u001b[0m\u001b[1;33m*\u001b[0m\u001b[0mproblem\u001b[0m\u001b[1;33m)\u001b[0m\u001b[1;33m:\u001b[0m\u001b[1;33m\u001b[0m\u001b[0m\n\u001b[1;32m--> 102\u001b[1;33m                     \u001b[0mresult\u001b[0m\u001b[1;33m[\u001b[0m\u001b[0mname\u001b[0m\u001b[1;33m]\u001b[0m\u001b[1;33m[\u001b[0m\u001b[0mstr\u001b[0m\u001b[1;33m(\u001b[0m\u001b[0mproblem\u001b[0m\u001b[1;33m[\u001b[0m\u001b[1;36m0\u001b[0m\u001b[1;33m]\u001b[0m\u001b[1;33m[\u001b[0m\u001b[1;36m1\u001b[0m\u001b[1;33m]\u001b[0m\u001b[1;33m.\u001b[0m\u001b[0mpreferences\u001b[0m\u001b[1;33m)\u001b[0m\u001b[1;33m]\u001b[0m\u001b[1;33m.\u001b[0m\u001b[0madd\u001b[0m\u001b[1;33m(\u001b[0m\u001b[0msolution\u001b[0m\u001b[1;33m)\u001b[0m\u001b[1;33m\u001b[0m\u001b[0m\n\u001b[0m\u001b[0;32m    103\u001b[0m         \u001b[1;32mreturn\u001b[0m \u001b[0mresult\u001b[0m\u001b[1;33m\u001b[0m\u001b[0m\n\u001b[0;32m    104\u001b[0m \u001b[1;33m\u001b[0m\u001b[0m\n",
      "\u001b[1;32m~\\Documents\\Dev\\Python\\2P-FairDivision-IndivisibleItems\\fairdiv\\statistics.py\u001b[0m in \u001b[0;36madd\u001b[1;34m(self, alloc)\u001b[0m\n\u001b[0;32m     37\u001b[0m         }\n\u001b[0;32m     38\u001b[0m         \u001b[1;32mfor\u001b[0m \u001b[0mk\u001b[0m\u001b[1;33m,\u001b[0m \u001b[0mv\u001b[0m \u001b[1;32min\u001b[0m \u001b[0mself\u001b[0m\u001b[1;33m.\u001b[0m\u001b[0mfunctions\u001b[0m\u001b[1;33m.\u001b[0m\u001b[0mitems\u001b[0m\u001b[1;33m(\u001b[0m\u001b[1;33m)\u001b[0m\u001b[1;33m:\u001b[0m\u001b[1;33m\u001b[0m\u001b[0m\n\u001b[1;32m---> 39\u001b[1;33m             \u001b[0mresult\u001b[0m\u001b[1;33m[\u001b[0m\u001b[0mk\u001b[0m\u001b[1;33m]\u001b[0m \u001b[1;33m=\u001b[0m \u001b[0mv\u001b[0m\u001b[1;33m(\u001b[0m\u001b[0malloc\u001b[0m\u001b[1;33m,\u001b[0m \u001b[0mself\u001b[0m\u001b[1;33m.\u001b[0m\u001b[0mallocs\u001b[0m\u001b[1;33m,\u001b[0m \u001b[0mself\u001b[0m\u001b[1;33m.\u001b[0m\u001b[0magents\u001b[0m\u001b[1;33m)\u001b[0m\u001b[1;33m\u001b[0m\u001b[0m\n\u001b[0m\u001b[0;32m     40\u001b[0m         \u001b[0mself\u001b[0m\u001b[1;33m.\u001b[0m\u001b[0m_data\u001b[0m\u001b[1;33m.\u001b[0m\u001b[0mappend\u001b[0m\u001b[1;33m(\u001b[0m\u001b[0mresult\u001b[0m\u001b[1;33m)\u001b[0m\u001b[1;33m\u001b[0m\u001b[0m\n\u001b[0;32m     41\u001b[0m \u001b[1;33m\u001b[0m\u001b[0m\n",
      "\u001b[1;32m~\\Documents\\Dev\\Python\\2P-FairDivision-IndivisibleItems\\fairdiv\\properties.py\u001b[0m in \u001b[0;36mis_pareto_ordinally\u001b[1;34m(X, A, M)\u001b[0m\n\u001b[0;32m     76\u001b[0m     \u001b[1;32mwhile\u001b[0m \u001b[1;32mnot\u001b[0m \u001b[0mfound\u001b[0m \u001b[1;32mand\u001b[0m \u001b[0mi\u001b[0m \u001b[1;33m<\u001b[0m \u001b[0mlen\u001b[0m\u001b[1;33m(\u001b[0m\u001b[0mA\u001b[0m\u001b[1;33m)\u001b[0m\u001b[1;33m:\u001b[0m\u001b[1;33m\u001b[0m\u001b[0m\n\u001b[0;32m     77\u001b[0m         \u001b[1;32mfor\u001b[0m \u001b[0mj\u001b[0m \u001b[1;32min\u001b[0m \u001b[0mrange\u001b[0m\u001b[1;33m(\u001b[0m\u001b[0mlen\u001b[0m\u001b[1;33m(\u001b[0m\u001b[0mM\u001b[0m\u001b[1;33m)\u001b[0m\u001b[1;33m)\u001b[0m\u001b[1;33m:\u001b[0m\u001b[1;33m\u001b[0m\u001b[0m\n\u001b[1;32m---> 78\u001b[1;33m             \u001b[0mfound\u001b[0m \u001b[1;33m=\u001b[0m \u001b[0mfound\u001b[0m \u001b[1;32mor\u001b[0m \u001b[0mM\u001b[0m\u001b[1;33m[\u001b[0m\u001b[0mj\u001b[0m\u001b[1;33m]\u001b[0m\u001b[1;33m.\u001b[0m\u001b[0mis_ordinally_less\u001b[0m\u001b[1;33m(\u001b[0m\u001b[0mX\u001b[0m\u001b[1;33m[\u001b[0m\u001b[0mj\u001b[0m\u001b[1;33m]\u001b[0m\u001b[1;33m,\u001b[0m \u001b[0mA\u001b[0m\u001b[1;33m[\u001b[0m\u001b[0mi\u001b[0m\u001b[1;33m]\u001b[0m\u001b[1;33m[\u001b[0m\u001b[0mj\u001b[0m\u001b[1;33m]\u001b[0m\u001b[1;33m)\u001b[0m\u001b[1;33m\u001b[0m\u001b[0m\n\u001b[0m\u001b[0;32m     79\u001b[0m         \u001b[0mi\u001b[0m \u001b[1;33m+=\u001b[0m \u001b[1;36m1\u001b[0m\u001b[1;33m\u001b[0m\u001b[0m\n\u001b[0;32m     80\u001b[0m \u001b[1;33m\u001b[0m\u001b[0m\n",
      "\u001b[1;32m~\\Documents\\Dev\\Python\\2P-FairDivision-IndivisibleItems\\fairdiv\\__init__.py\u001b[0m in \u001b[0;36mis_ordinally_less\u001b[1;34m(self, alloc1, alloc2)\u001b[0m\n\u001b[0;32m    214\u001b[0m         \u001b[1;32mif\u001b[0m \u001b[1;32mnot\u001b[0m \u001b[0misinstance\u001b[0m\u001b[1;33m(\u001b[0m\u001b[0malloc1\u001b[0m\u001b[1;33m,\u001b[0m \u001b[0mtuple\u001b[0m\u001b[1;33m)\u001b[0m\u001b[1;33m:\u001b[0m\u001b[1;33m\u001b[0m\u001b[0m\n\u001b[0;32m    215\u001b[0m             \u001b[0malloc1\u001b[0m \u001b[1;33m=\u001b[0m \u001b[0mtuple\u001b[0m\u001b[1;33m(\u001b[0m\u001b[0malloc1\u001b[0m\u001b[1;33m)\u001b[0m\u001b[1;33m\u001b[0m\u001b[0m\n\u001b[1;32m--> 216\u001b[1;33m         \u001b[1;32mreturn\u001b[0m \u001b[0mAgent\u001b[0m\u001b[1;33m.\u001b[0m\u001b[0m_is_ordinally_less\u001b[0m\u001b[1;33m(\u001b[0m\u001b[0mself\u001b[0m\u001b[1;33m,\u001b[0m \u001b[0malloc1\u001b[0m\u001b[1;33m,\u001b[0m \u001b[0malloc2\u001b[0m\u001b[1;33m)\u001b[0m\u001b[1;33m\u001b[0m\u001b[0m\n\u001b[0m\u001b[0;32m    217\u001b[0m \u001b[1;33m\u001b[0m\u001b[0m\n\u001b[0;32m    218\u001b[0m     \u001b[1;32mdef\u001b[0m \u001b[0mborda\u001b[0m\u001b[1;33m(\u001b[0m\u001b[0mself\u001b[0m\u001b[1;33m,\u001b[0m \u001b[0mgoods\u001b[0m\u001b[1;33m,\u001b[0m \u001b[0mN\u001b[0m\u001b[1;33m=\u001b[0m\u001b[1;32mNone\u001b[0m\u001b[1;33m)\u001b[0m\u001b[1;33m:\u001b[0m\u001b[1;33m\u001b[0m\u001b[0m\n",
      "\u001b[1;32m~\\Documents\\Dev\\Python\\2P-FairDivision-IndivisibleItems\\fairdiv\\cacheUtils.py\u001b[0m in \u001b[0;36minner\u001b[1;34m(*args)\u001b[0m\n\u001b[0;32m    135\u001b[0m     \"\"\"\n\u001b[0;32m    136\u001b[0m     \u001b[1;32mdef\u001b[0m \u001b[0minner\u001b[0m\u001b[1;33m(\u001b[0m\u001b[1;33m*\u001b[0m\u001b[0margs\u001b[0m\u001b[1;33m)\u001b[0m\u001b[1;33m:\u001b[0m\u001b[1;33m\u001b[0m\u001b[0m\n\u001b[1;32m--> 137\u001b[1;33m         \u001b[1;32mreturn\u001b[0m \u001b[0mDatabase\u001b[0m\u001b[1;33m.\u001b[0m\u001b[0mget_from_file\u001b[0m\u001b[1;33m(\u001b[0m\u001b[0mfunc\u001b[0m\u001b[1;33m,\u001b[0m \u001b[1;33m*\u001b[0m\u001b[0margs\u001b[0m\u001b[1;33m)\u001b[0m\u001b[1;33m\u001b[0m\u001b[0m\n\u001b[0m\u001b[0;32m    138\u001b[0m     \u001b[1;32mreturn\u001b[0m \u001b[0minner\u001b[0m\u001b[1;33m\u001b[0m\u001b[0m\n\u001b[0;32m    139\u001b[0m \u001b[1;33m\u001b[0m\u001b[0m\n",
      "\u001b[1;32m~\\Documents\\Dev\\Python\\2P-FairDivision-IndivisibleItems\\fairdiv\\cacheUtils.py\u001b[0m in \u001b[0;36mget_from_file\u001b[1;34m(func, *args)\u001b[0m\n\u001b[0;32m     55\u001b[0m             \u001b[0mfunc_dict\u001b[0m\u001b[1;33m[\u001b[0m\u001b[0margs_key\u001b[0m\u001b[1;33m]\u001b[0m \u001b[1;33m=\u001b[0m \u001b[0mtemp\u001b[0m\u001b[1;33m\u001b[0m\u001b[0m\n\u001b[0;32m     56\u001b[0m         \u001b[1;31m# Return the result\u001b[0m\u001b[1;33m\u001b[0m\u001b[1;33m\u001b[0m\u001b[0m\n\u001b[1;32m---> 57\u001b[1;33m         \u001b[1;32mreturn\u001b[0m \u001b[0mfunc_dict\u001b[0m\u001b[1;33m[\u001b[0m\u001b[0margs_key\u001b[0m\u001b[1;33m]\u001b[0m\u001b[1;33m\u001b[0m\u001b[0m\n\u001b[0m\u001b[0;32m     58\u001b[0m \u001b[1;33m\u001b[0m\u001b[0m\n\u001b[0;32m     59\u001b[0m     \u001b[1;33m@\u001b[0m\u001b[0mstaticmethod\u001b[0m\u001b[1;33m\u001b[0m\u001b[0m\n",
      "\u001b[1;32m~\\Documents\\Dev\\Python\\2P-FairDivision-IndivisibleItems\\fairdiv\\__init__.py\u001b[0m in \u001b[0;36m__eq__\u001b[1;34m(self, other)\u001b[0m\n\u001b[0;32m     99\u001b[0m     \u001b[1;32mdef\u001b[0m \u001b[0m__eq__\u001b[0m\u001b[1;33m(\u001b[0m\u001b[0mself\u001b[0m\u001b[1;33m,\u001b[0m \u001b[0mother\u001b[0m\u001b[1;33m)\u001b[0m\u001b[1;33m:\u001b[0m\u001b[1;33m\u001b[0m\u001b[0m\n\u001b[0;32m    100\u001b[0m         return (\n\u001b[1;32m--> 101\u001b[1;33m             \u001b[0mtype\u001b[0m\u001b[1;33m(\u001b[0m\u001b[0mself\u001b[0m\u001b[1;33m)\u001b[0m \u001b[1;33m==\u001b[0m \u001b[0mtype\u001b[0m\u001b[1;33m(\u001b[0m\u001b[0mother\u001b[0m\u001b[1;33m)\u001b[0m\u001b[1;33m\u001b[0m\u001b[0m\n\u001b[0m\u001b[0;32m    102\u001b[0m             \u001b[1;32mand\u001b[0m \u001b[0mself\u001b[0m\u001b[1;33m.\u001b[0m\u001b[0mname\u001b[0m \u001b[1;33m==\u001b[0m \u001b[0mother\u001b[0m\u001b[1;33m.\u001b[0m\u001b[0mname\u001b[0m\u001b[1;33m\u001b[0m\u001b[0m\n\u001b[0;32m    103\u001b[0m             \u001b[1;32mand\u001b[0m \u001b[0mself\u001b[0m\u001b[1;33m.\u001b[0m\u001b[0mpreferences\u001b[0m \u001b[1;33m==\u001b[0m \u001b[0mother\u001b[0m\u001b[1;33m.\u001b[0m\u001b[0mpreferences\u001b[0m\u001b[1;33m\u001b[0m\u001b[0m\n",
      "\u001b[1;31mKeyboardInterrupt\u001b[0m: "
     ]
    }
   ],
   "source": [
    "import os\n",
    "import sys\n",
    "sys.path.insert(0, os.path.join('.', 'fairdiv'))\n",
    "\n",
    "import fairdiv\n",
    "import fairdiv.algorithm as algorithm\n",
    "import fairdiv.statistics as stats\n",
    "import fairdiv.properties as props\n",
    "import fairdiv.problemGenerators as generators\n",
    "\n",
    "# Create some constants\n",
    "NUMBER_OF_GOODS = 8\n",
    "\n",
    "# Generate all possible problems (ie, all preferences) for 8 items\n",
    "problems = generators.generate_possible_problems(NUMBER_OF_GOODS)\n",
    "\n",
    "# Algorithms to test\n",
    "algos = {\n",
    "    \"OS\": algorithm.original_sequential,\n",
    "    \"RS\": algorithm.restricted_sequential,\n",
    "    \"SD\": algorithm.singles_doubles,\n",
    "    \"BU\": algorithm.bottom_up,\n",
    "    \"TR\": algorithm.trump_algorithm\n",
    "}\n",
    "\n",
    "# Properties to test\n",
    "properties = {\n",
    "        \"BPareto\": props.is_borda_pareto,\n",
    "        \"BMaxSum\": props.is_maximal_borda_sum,\n",
    "        \"BEnvyFree\": lambda X, A, M: props.is_borda_envy_free(X, M),\n",
    "        \"BMaxMin\": props.is_borda_max_min,\n",
    "        \"BNash\": props.is_borda_nash,\n",
    "        #\"BEgalitarian\": lambda X, A, M: props.is_borda_egalitarian(X, M),\n",
    "        \"OLEnvyFree\": lambda X, A, M: props.is_envy_free_ordinally(X, M),\n",
    "        \"OLPareto\": props.is_pareto_ordinally, # Will take a long time\n",
    "        \"Max-min\": props.is_max_min\n",
    "    }\n",
    "\n",
    "# Benchmark algorithms\n",
    "benchmark = stats.Benchmark(\n",
    "    problems,\n",
    "    algos,\n",
    "    properties\n",
    ")\n",
    "\n",
    "result = benchmark.run()"
   ]
  }
 ],
 "metadata": {
  "kernelspec": {
   "display_name": "Python 3",
   "language": "python",
   "name": "python3"
  },
  "language_info": {
   "codemirror_mode": {
    "name": "ipython",
    "version": 3
   },
   "file_extension": ".py",
   "mimetype": "text/x-python",
   "name": "python",
   "nbconvert_exporter": "python",
   "pygments_lexer": "ipython3",
   "version": "3.5.4"
  }
 },
 "nbformat": 4,
 "nbformat_minor": 2
}
