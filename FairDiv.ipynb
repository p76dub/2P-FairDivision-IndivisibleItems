{
 "cells": [
  {
   "cell_type": "markdown",
   "metadata": {},
   "source": [
    "# 2P-Fairdivision-IndivisibleItems\n",
    "\n",
    "## Introduction\n",
    "The aim of this project is to benchmark some alogorithm design to allocate items to two agents. This notebook focuses on same-size allocations, meaning that each agent should receive the same number of goods. As an additional constraint, items are not divisible.\n",
    "\n",
    "This notebook is inspired by D. Marc Kilgour and Rudolf Vetschera article named *Comparing direct algoriths for two-player fair division of indivisible items - A computational study* you can found [here](https://papers.ssrn.com/sol3/papers.cfm?abstract_id=2997431)"
   ]
  },
  {
   "cell_type": "markdown",
   "metadata": {},
   "source": [
    "## How to use this notebook\n",
    "This notebook shows how to use algorithms and get properties of returned allocations. Several classes are defined to help you to create your own algorithms and properties :\n",
    "  * Agent, which store preferences of an agent as long as some helper methods like getting the to ranked item, get the Borda score of a provided allocation ... Take a look to see what can be done !\n",
    "  * Good, which is a simple wrapper to represent items. It has some nice printing  and comparison methods\n",
    "  * ...\n",
    "In the `properties` module, you can find a bunch of functions. They are designed to test several allocation properties such as Pareto-Optimality, Max-Min property and more."
   ]
  },
  {
   "cell_type": "markdown",
   "metadata": {},
   "source": [
    "## First steps\n",
    "Let's create two agents with their preferences. As a start, we will also create 4 items to divide among agents."
   ]
  },
  {
   "cell_type": "code",
   "execution_count": 1,
   "metadata": {},
   "outputs": [],
   "source": [
    "import fairdiv\n",
    "\n",
    "\n",
    "# Create some constants\n",
    "NUMBER_OF_GOODS = 4\n",
    "\n",
    "# Create items\n",
    "items = [fairdiv.Good(i) for i in range(NUMBER_OF_GOODS)]\n",
    "\n",
    "# Create agents. We will consider that item's number is their rank in preferences of the first agent\n",
    "agents = [\n",
    "    fairdiv.Agent(name=\"A\", pref=items[:]),\n",
    "    fairdiv.Agent(name=\"B\", pref=[items[0], items[2], items[1], items[3]])\n",
    "]"
   ]
  },
  {
   "cell_type": "markdown",
   "metadata": {},
   "source": [
    "Once items and agents are created, you can use one of the available algorithm to compute an allocation. Let's use a sequential algorithm named `bottom_up`.\n",
    "This algorithm generates two allocations, one when agent A is the first agent to pick an item and an other when it is agent B."
   ]
  },
  {
   "cell_type": "code",
   "execution_count": 2,
   "metadata": {},
   "outputs": [
    {
     "name": "stdout",
     "output_type": "stream",
     "text": [
      "([1, 0], [3, 2]) ([3, 1], [2, 0])\n"
     ]
    }
   ],
   "source": [
    "# Manipulate path\n",
    "import os\n",
    "import sys\n",
    "sys.path.insert(0, os.path.join(os.getcwd(), 'fairdiv'))\n",
    "\n",
    "# Import algorithms\n",
    "import fairdiv.algorithm as algorithm\n",
    "\n",
    "\n",
    "# Use bottom-up to compute two allocations\n",
    "(x1, x2) = algorithm.bottom_up(agents, items)\n",
    "print(x1, x2)"
   ]
  },
  {
   "cell_type": "markdown",
   "metadata": {},
   "source": [
    "Once you generated some allocations, you can test different properties with the `properties` module. Let's benchmark our allocations `x1` and `x2` to see how beautiful they are !"
   ]
  },
  {
   "cell_type": "code",
   "execution_count": 3,
   "metadata": {},
   "outputs": [
    {
     "name": "stdout",
     "output_type": "stream",
     "text": [
      "False\n",
      "False\n"
     ]
    }
   ],
   "source": [
    "# Import module\n",
    "import fairdiv.properties as properties\n",
    "\n",
    "\n",
    "# Test some of them\n",
    "print(properties.is_borda_envy_free(x1, agents))\n",
    "print(properties.is_borda_envy_free(x2, agents))"
   ]
  },
  {
   "cell_type": "markdown",
   "metadata": {},
   "source": [
    "Some properties need to get all possible allocations for a given item set size. To generate them, use "
   ]
  },
  {
   "cell_type": "markdown",
   "metadata": {},
   "source": [
    "## Test a large amount of properties\n",
    "Because the number of properties to test is possibly hudge, we designed a class called `Statistics` with which you can store computed allocations and automatically test a bunch of properties easly.\n",
    "First you need to create a new `Statistics` object."
   ]
  },
  {
   "cell_type": "code",
   "execution_count": null,
   "metadata": {},
   "outputs": [],
   "source": [
    "import statistics as stats\n",
    "\n",
    "\n",
    "# Create a new Statistics object for storing allocations from bottom_up\n",
    "bu_stats = stats.Statistics()"
   ]
  }
 ],
 "metadata": {
  "kernelspec": {
   "display_name": "Python 3",
   "language": "python",
   "name": "python3"
  },
  "language_info": {
   "codemirror_mode": {
    "name": "ipython",
    "version": 3
   },
   "file_extension": ".py",
   "mimetype": "text/x-python",
   "name": "python",
   "nbconvert_exporter": "python",
   "pygments_lexer": "ipython3",
   "version": "3.5.4"
  }
 },
 "nbformat": 4,
 "nbformat_minor": 2
}
